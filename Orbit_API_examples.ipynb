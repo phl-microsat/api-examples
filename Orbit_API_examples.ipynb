{
 "cells": [
  {
   "cell_type": "markdown",
   "metadata": {},
   "source": [
    "This notebook provides an overview of orbit API endpoints"
   ]
  },
  {
   "cell_type": "markdown",
   "metadata": {},
   "source": [
    "# TLE endpoint\n",
    "# This endpoint retrieves the TLE for a given timestamp\n",
    "\n",
    "`/v1/tle/<catalog_id>/<timestamp>`\n",
    "\n",
    "Catalog ID is the the satellite's NORAD Catalog ID\n",
    "\n",
    "**41463**\n",
    "\n",
    "Where timestamp is of the format \n",
    "\n",
    "**YYYYMMDDTHHmmSS**\n",
    "\n",
    "20170815T0100Z\n"
   ]
  },
  {
   "cell_type": "code",
   "execution_count": 3,
   "metadata": {},
   "outputs": [],
   "source": [
    "import requests\n",
    "\n",
    "\n",
    "SERVER = 'https://api.orbit.phl-microsat.xyz'\n",
    "CATALOG_ID = '41463'\n",
    "timestamp = \"20170815T0100Z\"\n",
    "\n",
    "\n",
    "tle_endpoint = f'{SERVER}/v1/tle/{CATALOG_ID}/{timestamp}'\n",
    "\n",
    "r = requests.get(tle_endpoint)"
   ]
  },
  {
   "cell_type": "code",
   "execution_count": 9,
   "metadata": {},
   "outputs": [
    {
     "data": {
      "text/plain": [
       "{'data': {'epoch': '2017-08-14T20:41:28Z',\n",
       "  'line1': '1 41463U 98067HT  17226.86213157  .00006355  00000-0  74091-4 0  9993',\n",
       "  'line2': '2 41463  51.6411  89.0410 0001139  76.9154  10.4807 15.63104425 73973'},\n",
       " 'meta': {'query_time': '2017-08-15T01:00:00Z', 'catalog_id': 41463}}"
      ]
     },
     "execution_count": 9,
     "metadata": {},
     "output_type": "execute_result"
    },
    {
     "data": {
      "text/plain": [
       "{'epoch': '2017-08-14T20:41:28Z',\n",
       " 'line1': '1 41463U 98067HT  17226.86213157  .00006355  00000-0  74091-4 0  9993',\n",
       " 'line2': '2 41463  51.6411  89.0410 0001139  76.9154  10.4807 15.63104425 73973'}"
      ]
     },
     "execution_count": 9,
     "metadata": {},
     "output_type": "execute_result"
    },
    {
     "data": {
      "text/plain": [
       "{'query_time': '2017-08-15T01:00:00Z', 'catalog_id': 41463}"
      ]
     },
     "execution_count": 9,
     "metadata": {},
     "output_type": "execute_result"
    }
   ],
   "source": [
    "r.json()\n",
    "r.json()['data']\n",
    "r.json()['meta']"
   ]
  },
  {
   "cell_type": "markdown",
   "metadata": {},
   "source": [
    "# POINT ENDPOINT\n",
    "\n",
    "`/v1/point/<catalog_id>/<timestamp>`\n",
    "\n",
    "Computes for a Satellite's location at a given timestamp."
   ]
  },
  {
   "cell_type": "code",
   "execution_count": 36,
   "metadata": {},
   "outputs": [
    {
     "data": {
      "text/plain": [
       "[121.06345063588421, 14.29374071582744]"
      ]
     },
     "execution_count": 36,
     "metadata": {},
     "output_type": "execute_result"
    }
   ],
   "source": [
    "import requests\n",
    "\n",
    "\n",
    "SERVER = 'https://api.orbit.phl-microsat.xyz'\n",
    "CATALOG_ID = '41463'\n",
    "timestamp = \"20170815T0100Z\"\n",
    "\n",
    "\n",
    "tle_endpoint = f'{SERVER}/v1/point/{CATALOG_ID}/{timestamp}'\n",
    "\n",
    "r = requests.get(tle_endpoint)\n",
    "sat_location = r.json()['data']['geometry']['coordinates']\n",
    "sat_location"
   ]
  },
  {
   "cell_type": "markdown",
   "metadata": {},
   "source": [
    "# Track\n",
    "\n",
    "`/v1/track/<catalog_id>/<start_time>/<end_time>`\n",
    "\n",
    "Generates a ground track of a satellite for a time range"
   ]
  },
  {
   "cell_type": "code",
   "execution_count": 49,
   "metadata": {},
   "outputs": [],
   "source": [
    "import requests\n",
    "\n",
    "\n",
    "SERVER = 'https://api.orbit.phl-microsat.xyz'\n",
    "CATALOG_ID = '41463'\n",
    "timestamp = \"20170815T0100Z\"\n",
    "timestamp2 = \"20170815T0110Z\" \n",
    "\n",
    "tle_endpoint = f'{SERVER}/v1/track/{CATALOG_ID}/{timestamp}/{timestamp2}'\n",
    "\n",
    "r = requests.get(tle_endpoint)\n",
    "#track = r.json()['data']"
   ]
  },
  {
   "cell_type": "code",
   "execution_count": 50,
   "metadata": {},
   "outputs": [
    {
     "data": {
      "text/plain": [
       "{'type': 'FeatureCollection',\n",
       " 'features': [{'type': 'Feature',\n",
       "   'geometry': {'type': 'Point',\n",
       "    'coordinates': [121.06345063588421, 14.29374071582744]},\n",
       "   'properties': {'elevation': 378303.0245276034, 'timestamp': 1502758800.0}},\n",
       "  {'type': 'Feature',\n",
       "   'geometry': {'type': 'Point',\n",
       "    'coordinates': [121.64845706317143, 15.048407614000103]},\n",
       "   'properties': {'elevation': 378313.2946547737, 'timestamp': 1502758815.0}},\n",
       "  {'type': 'Feature',\n",
       "   'geometry': {'type': 'Point',\n",
       "    'coordinates': [122.2380315381809, 15.801179317275707]},\n",
       "   'properties': {'elevation': 378329.35048469994, 'timestamp': 1502758830.0}},\n",
       "  {'type': 'Feature',\n",
       "   'geometry': {'type': 'Point',\n",
       "    'coordinates': [122.8324357272769, 16.551941566676263]},\n",
       "   'properties': {'elevation': 378351.08031286707,\n",
       "    'timestamp': 1502758845.0}}]}"
      ]
     },
     "execution_count": 50,
     "metadata": {},
     "output_type": "execute_result"
    }
   ],
   "source": [
    "track = r.json()['data']\n",
    "track"
   ]
  },
  {
   "cell_type": "markdown",
   "metadata": {},
   "source": [
    "# Visualiation\n",
    "\n",
    "Let's visualize!\n",
    "\n"
   ]
  },
  {
   "cell_type": "code",
   "execution_count": 37,
   "metadata": {
    "scrolled": true
   },
   "outputs": [
    {
     "data": {
      "text/plain": [
       "<folium.map.Marker at 0x18cf2ffbfd0>"
      ]
     },
     "execution_count": 37,
     "metadata": {},
     "output_type": "execute_result"
    }
   ],
   "source": [
    "# Visualize point!\n",
    "import folium\n",
    "\n",
    "sat_location = list(reversed(sat_location))\n",
    "m = folium.Map(location=sat_location)\n",
    "folium.Marker(sat_location).add_to(m)"
   ]
  },
  {
   "cell_type": "code",
   "execution_count": 38,
   "metadata": {},
   "outputs": [
    {
     "data": {
      "text/html": [
       "<div style=\"width:100%;\"><div style=\"position:relative;width:100%;height:0;padding-bottom:60%;\"><iframe src=\"data:text/html;charset=utf-8;base64,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\" style=\"position:absolute;width:100%;height:100%;left:0;top:0;border:none !important;\" allowfullscreen webkitallowfullscreen mozallowfullscreen></iframe></div></div>"
      ],
      "text/plain": [
       "<folium.folium.Map at 0x18cf2ffbc50>"
      ]
     },
     "execution_count": 38,
     "metadata": {},
     "output_type": "execute_result"
    }
   ],
   "source": [
    "m"
   ]
  },
  {
   "cell_type": "code",
   "execution_count": null,
   "metadata": {},
   "outputs": [],
   "source": [
    "track_geojson = "
   ]
  },
  {
   "cell_type": "code",
   "execution_count": 53,
   "metadata": {},
   "outputs": [
    {
     "data": {
      "text/plain": [
       "<folium.features.GeoJson at 0x18cf313b550>"
      ]
     },
     "execution_count": 53,
     "metadata": {},
     "output_type": "execute_result"
    },
    {
     "data": {
      "text/html": [
       "<div style=\"width:100%;\"><div style=\"position:relative;width:100%;height:0;padding-bottom:60%;\"><iframe src=\"data:text/html;charset=utf-8;base64,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\" style=\"position:absolute;width:100%;height:100%;left:0;top:0;border:none !important;\" allowfullscreen webkitallowfullscreen mozallowfullscreen></iframe></div></div>"
      ],
      "text/plain": [
       "<folium.folium.Map at 0x18cf313b320>"
      ]
     },
     "execution_count": 53,
     "metadata": {},
     "output_type": "execute_result"
    }
   ],
   "source": [
    "## Visualize tracks!\n",
    "import folium\n",
    "import geojson\n",
    "\n",
    "m = folium.Map(\n",
    "    location=sat_location,\n",
    ")\n",
    "\n",
    "folium.GeoJson(\n",
    "    track,\n",
    "    name='geojson'\n",
    ").add_to(m)\n",
    "\n",
    "\n",
    "\n",
    "m"
   ]
  },
  {
   "cell_type": "code",
   "execution_count": null,
   "metadata": {},
   "outputs": [],
   "source": []
  }
 ],
 "metadata": {
  "kernelspec": {
   "display_name": "Python [conda env:api-examples]",
   "language": "python",
   "name": "conda-env-api-examples-py"
  },
  "language_info": {
   "codemirror_mode": {
    "name": "ipython",
    "version": 3
   },
   "file_extension": ".py",
   "mimetype": "text/x-python",
   "name": "python",
   "nbconvert_exporter": "python",
   "pygments_lexer": "ipython3",
   "version": "3.7.0"
  }
 },
 "nbformat": 4,
 "nbformat_minor": 2
}
