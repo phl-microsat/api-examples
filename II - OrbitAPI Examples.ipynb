{
 "cells": [
  {
   "cell_type": "markdown",
   "metadata": {},
   "source": [
    "# Orbit API\n",
    "\n",
    "A web API for predicting satellite location."
   ]
  },
  {
   "cell_type": "markdown",
   "metadata": {},
   "source": [
    "Before we start, we define some constants."
   ]
  },
  {
   "cell_type": "code",
   "execution_count": 102,
   "metadata": {},
   "outputs": [],
   "source": [
    "COUNTRY_CENTER = [12.8797, 121.7740]"
   ]
  },
  {
   "cell_type": "markdown",
   "metadata": {},
   "source": [
    "## TLE\n",
    "\n",
    "This endpoint retrieves the TLE for a given timestamp\n",
    "\n",
    "`/v1/tle/<catalog_id>/<timestamp>`\n",
    "\n",
    "Catalog ID is the the satellite's NORAD Catalog ID\n",
    "\n",
    "**41463**\n",
    "\n",
    "Where timestamp is of the format \n",
    "\n",
    "**YYYYMMDDTHHmmSS**\n",
    "\n",
    "20170815T0100Z\n"
   ]
  },
  {
   "cell_type": "code",
   "execution_count": 112,
   "metadata": {},
   "outputs": [],
   "source": [
    "import requests\n",
    "\n",
    "tle_endpoint = 'https://api.orbit.phl-microsat.xyz/v1/tle/41463/20170815T0100Z'\n",
    "results = requests.get(tle_endpoint)"
   ]
  },
  {
   "cell_type": "code",
   "execution_count": 113,
   "metadata": {},
   "outputs": [
    {
     "data": {
      "text/plain": [
       "{'data': {'epoch': '2017-08-14T20:41:28Z',\n",
       "  'line1': '1 41463U 98067HT  17226.86213157  .00006355  00000-0  74091-4 0  9993',\n",
       "  'line2': '2 41463  51.6411  89.0410 0001139  76.9154  10.4807 15.63104425 73973'},\n",
       " 'meta': {'query_time': '2017-08-15T01:00:00Z', 'catalog_id': 41463}}"
      ]
     },
     "execution_count": 113,
     "metadata": {},
     "output_type": "execute_result"
    }
   ],
   "source": [
    "results.json()"
   ]
  },
  {
   "cell_type": "code",
   "execution_count": 114,
   "metadata": {},
   "outputs": [
    {
     "data": {
      "text/plain": [
       "{'epoch': '2017-08-14T20:41:28Z',\n",
       " 'line1': '1 41463U 98067HT  17226.86213157  .00006355  00000-0  74091-4 0  9993',\n",
       " 'line2': '2 41463  51.6411  89.0410 0001139  76.9154  10.4807 15.63104425 73973'}"
      ]
     },
     "execution_count": 114,
     "metadata": {},
     "output_type": "execute_result"
    }
   ],
   "source": [
    "results.json()['data']"
   ]
  },
  {
   "cell_type": "code",
   "execution_count": 115,
   "metadata": {},
   "outputs": [
    {
     "data": {
      "text/plain": [
       "{'query_time': '2017-08-15T01:00:00Z', 'catalog_id': 41463}"
      ]
     },
     "execution_count": 115,
     "metadata": {},
     "output_type": "execute_result"
    }
   ],
   "source": [
    "results.json()['meta']"
   ]
  },
  {
   "cell_type": "markdown",
   "metadata": {},
   "source": [
    "## Point\n",
    "\n",
    "`/v1/point/<catalog_id>/<timestamp>`\n",
    "\n",
    "Computes for a Satellite's location at a given timestamp."
   ]
  },
  {
   "cell_type": "code",
   "execution_count": 116,
   "metadata": {},
   "outputs": [
    {
     "data": {
      "text/plain": [
       "{'data': {'type': 'Feature',\n",
       "  'geometry': {'type': 'Point',\n",
       "   'coordinates': [121.06345063588421, 14.29374071582744]},\n",
       "  'properties': {'elevation': 378303.0245276034, 'timestamp': 1502758800.0}},\n",
       " 'meta': {'tle': {'catalog_id': 41463,\n",
       "   'line1': '1 41463U 98067HT  17226.86213157  .00006355  00000-0  74091-4 0  9993',\n",
       "   'line2': '2 41463  51.6411  89.0410 0001139  76.9154  10.4807 15.63104425 73973',\n",
       "   'query_time': '2017-08-15T01:00:00Z',\n",
       "   'epoch': '2017-08-14T20:41:28Z'}}}"
      ]
     },
     "execution_count": 116,
     "metadata": {},
     "output_type": "execute_result"
    }
   ],
   "source": [
    "import folium\n",
    "import requests\n",
    "\n",
    "point_endpoint = f'https://api.orbit.phl-microsat.xyz/v1/point/41463/20170815T0100Z'\n",
    "\n",
    "results = requests.get(point_endpoint).json()\n",
    "results"
   ]
  },
  {
   "cell_type": "code",
   "execution_count": 117,
   "metadata": {},
   "outputs": [
    {
     "data": {
      "text/plain": [
       "{'type': 'Feature',\n",
       " 'geometry': {'type': 'Point',\n",
       "  'coordinates': [121.06345063588421, 14.29374071582744]},\n",
       " 'properties': {'elevation': 378303.0245276034, 'timestamp': 1502758800.0}}"
      ]
     },
     "execution_count": 117,
     "metadata": {},
     "output_type": "execute_result"
    }
   ],
   "source": [
    "point = results['data']\n",
    "point"
   ]
  },
  {
   "cell_type": "code",
   "execution_count": 118,
   "metadata": {},
   "outputs": [
    {
     "data": {
      "text/html": [
       "<div style=\"width:100%;\"><div style=\"position:relative;width:100%;height:0;padding-bottom:60%;\"><iframe src=\"data:text/html;charset=utf-8;base64,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\" style=\"position:absolute;width:100%;height:100%;left:0;top:0;border:none !important;\" allowfullscreen webkitallowfullscreen mozallowfullscreen></iframe></div></div>"
      ],
      "text/plain": [
       "<folium.folium.Map at 0x7efec7f75d68>"
      ]
     },
     "execution_count": 118,
     "metadata": {},
     "output_type": "execute_result"
    }
   ],
   "source": [
    "m = folium.Map(location=COUNTRY_CENTER, zoom_start=6)\n",
    "folium.GeoJson(point).add_to(m)\n",
    "\n",
    "m"
   ]
  },
  {
   "cell_type": "markdown",
   "metadata": {},
   "source": [
    "# Track\n",
    "\n",
    "`/v1/track/<catalog_id>/<start_time>/<end_time>`\n",
    "\n",
    "Generates a ground track of a satellite for a time range"
   ]
  },
  {
   "cell_type": "code",
   "execution_count": 120,
   "metadata": {
    "scrolled": false
   },
   "outputs": [
    {
     "data": {
      "text/plain": [
       "{'meta': {'tle': {'line1': '1 41463U 98067HT  17226.86213157  .00006355  00000-0  74091-4 0  9993',\n",
       "   'line2': '2 41463  51.6411  89.0410 0001139  76.9154  10.4807 15.63104425 73973',\n",
       "   'catalog_id': 41463,\n",
       "   'epoch': '2017-08-14T20:41:28Z'},\n",
       "  'time_computed': '2018-10-17T04:24:46Z',\n",
       "  'start_time': '2017-08-15T01:00:00Z',\n",
       "  'end_time': '2017-08-15T01:01:00Z'},\n",
       " 'data': {'type': 'FeatureCollection',\n",
       "  'features': [{'type': 'Feature',\n",
       "    'geometry': {'type': 'Point',\n",
       "     'coordinates': [121.06345063588421, 14.29374071582744]},\n",
       "    'properties': {'elevation': 378303.0245276034, 'timestamp': 1502758800.0}},\n",
       "   {'type': 'Feature',\n",
       "    'geometry': {'type': 'Point',\n",
       "     'coordinates': [121.64845706317143, 15.048407614000103]},\n",
       "    'properties': {'elevation': 378313.2946547737, 'timestamp': 1502758815.0}},\n",
       "   {'type': 'Feature',\n",
       "    'geometry': {'type': 'Point',\n",
       "     'coordinates': [122.2380315381809, 15.801179317275707]},\n",
       "    'properties': {'elevation': 378329.35048469994,\n",
       "     'timestamp': 1502758830.0}},\n",
       "   {'type': 'Feature',\n",
       "    'geometry': {'type': 'Point',\n",
       "     'coordinates': [122.8324357272769, 16.551941566676263]},\n",
       "    'properties': {'elevation': 378351.08031286707,\n",
       "     'timestamp': 1502758845.0}}]}}"
      ]
     },
     "execution_count": 120,
     "metadata": {},
     "output_type": "execute_result"
    }
   ],
   "source": [
    "import folium\n",
    "import requests\n",
    "\n",
    "tle_endpoint = 'https://api.orbit.phl-microsat.xyz/v1/track/41463/20170815T0100Z/20170815T0110Z'\n",
    "\n",
    "r = requests.get(tle_endpoint).json()\n",
    "r"
   ]
  },
  {
   "cell_type": "code",
   "execution_count": 121,
   "metadata": {},
   "outputs": [
    {
     "data": {
      "text/plain": [
       "{'type': 'FeatureCollection',\n",
       " 'features': [{'type': 'Feature',\n",
       "   'geometry': {'type': 'Point',\n",
       "    'coordinates': [121.06345063588421, 14.29374071582744]},\n",
       "   'properties': {'elevation': 378303.0245276034, 'timestamp': 1502758800.0}},\n",
       "  {'type': 'Feature',\n",
       "   'geometry': {'type': 'Point',\n",
       "    'coordinates': [121.64845706317143, 15.048407614000103]},\n",
       "   'properties': {'elevation': 378313.2946547737, 'timestamp': 1502758815.0}},\n",
       "  {'type': 'Feature',\n",
       "   'geometry': {'type': 'Point',\n",
       "    'coordinates': [122.2380315381809, 15.801179317275707]},\n",
       "   'properties': {'elevation': 378329.35048469994, 'timestamp': 1502758830.0}},\n",
       "  {'type': 'Feature',\n",
       "   'geometry': {'type': 'Point',\n",
       "    'coordinates': [122.8324357272769, 16.551941566676263]},\n",
       "   'properties': {'elevation': 378351.08031286707,\n",
       "    'timestamp': 1502758845.0}}]}"
      ]
     },
     "execution_count": 121,
     "metadata": {},
     "output_type": "execute_result"
    }
   ],
   "source": [
    "track = r['data']\n",
    "track"
   ]
  },
  {
   "cell_type": "code",
   "execution_count": 122,
   "metadata": {
    "scrolled": false
   },
   "outputs": [
    {
     "data": {
      "text/html": [
       "<div style=\"width:100%;\"><div style=\"position:relative;width:100%;height:0;padding-bottom:60%;\"><iframe src=\"data:text/html;charset=utf-8;base64,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\" style=\"position:absolute;width:100%;height:100%;left:0;top:0;border:none !important;\" allowfullscreen webkitallowfullscreen mozallowfullscreen></iframe></div></div>"
      ],
      "text/plain": [
       "<folium.folium.Map at 0x7efec7f85f60>"
      ]
     },
     "execution_count": 122,
     "metadata": {},
     "output_type": "execute_result"
    }
   ],
   "source": [
    "m = folium.Map(location=COUNTRY_CENTER, zoom_start=6)\n",
    "\n",
    "folium.GeoJson(\n",
    "    track,\n",
    ").add_to(m)\n",
    "\n",
    "m"
   ]
  },
  {
   "cell_type": "markdown",
   "metadata": {},
   "source": [
    "## Passes"
   ]
  },
  {
   "cell_type": "code",
   "execution_count": 126,
   "metadata": {},
   "outputs": [
    {
     "data": {
      "text/plain": [
       "{'meta': {'tle': ['1 41463U 98067HT  18289.70293215  .00018672  00000-0  13717-3 0  9991',\n",
       "   '2 41463  51.6381  70.7685 0000845 200.5081 243.0860 15.73159928141111'],\n",
       "  'time_computed': '2018-10-17T04:26:45Z',\n",
       "  'observer': {'lon': 121.06834888458252, 'lat': 14.649828466511153, 'alt': 0},\n",
       "  'horizon': '5',\n",
       "  'days': 3.0},\n",
       " 'data': [{'pass': {'rise_time': '2018-10-17T05:19:00Z',\n",
       "    'set_time': '2018-10-17T05:25:42Z',\n",
       "    'duration': 401,\n",
       "    'max_altitude_time': '2018-10-17T05:22:21Z',\n",
       "    'max_altitude': 0.3833211064338684,\n",
       "    'rise_azimuth': 6.050815582275391,\n",
       "    'set_azimuth': 1.9859271049499512,\n",
       "    'ground_track_link': 'https://api.orbit.phl-microsat.xyz/v1/track/41463/20181017T051900Z/20181017T052542Z'},\n",
       "   'horizon_pass': {'rise_time': '2018-10-17T05:17:44Z',\n",
       "    'set_time': '2018-10-17T05:26:58Z',\n",
       "    'duration': 553,\n",
       "    'ground_track_link': 'https://api.orbit.phl-microsat.xyz/v1/track/41463/20181017T051744Z/20181017T052658Z'},\n",
       "   'eclipse': {'before_aos': False,\n",
       "    'on_los': False,\n",
       "    'start': None,\n",
       "    'end': None}},\n",
       "  {'pass': {'rise_time': '2018-10-17T06:55:13Z',\n",
       "    'set_time': '2018-10-17T06:59:32Z',\n",
       "    'duration': 259,\n",
       "    'max_altitude_time': '2018-10-17T06:57:22Z',\n",
       "    'max_altitude': 0.15492179989814758,\n",
       "    'rise_azimuth': 4.740212440490723,\n",
       "    'set_azimuth': 3.5008544921875,\n",
       "    'ground_track_link': 'https://api.orbit.phl-microsat.xyz/v1/track/41463/20181017T065513Z/20181017T065932Z'},\n",
       "   'horizon_pass': {'rise_time': '2018-10-17T06:53:32Z',\n",
       "    'set_time': '2018-10-17T07:01:13Z',\n",
       "    'duration': 460,\n",
       "    'ground_track_link': 'https://api.orbit.phl-microsat.xyz/v1/track/41463/20181017T065332Z/20181017T070113Z'},\n",
       "   'eclipse': {'before_aos': False,\n",
       "    'on_los': False,\n",
       "    'start': None,\n",
       "    'end': None}},\n",
       "  {'pass': {'rise_time': '2018-10-17T18:26:11Z',\n",
       "    'set_time': '2018-10-17T18:31:45Z',\n",
       "    'duration': 333,\n",
       "    'max_altitude_time': '2018-10-17T18:28:58Z',\n",
       "    'max_altitude': 0.22485671937465668,\n",
       "    'rise_azimuth': 3.0086910724639893,\n",
       "    'set_azimuth': 1.331796407699585,\n",
       "    'ground_track_link': 'https://api.orbit.phl-microsat.xyz/v1/track/41463/20181017T182611Z/20181017T183145Z'},\n",
       "   'horizon_pass': {'rise_time': '2018-10-17T18:24:45Z',\n",
       "    'set_time': '2018-10-17T18:33:11Z',\n",
       "    'duration': 505,\n",
       "    'ground_track_link': 'https://api.orbit.phl-microsat.xyz/v1/track/41463/20181017T182445Z/20181017T183311Z'},\n",
       "   'eclipse': {'before_aos': True,\n",
       "    'on_los': True,\n",
       "    'start': '2018-10-17T18:03:31Z',\n",
       "    'end': '2018-10-17T18:37:09Z'}},\n",
       "  {'pass': {'rise_time': '2018-10-17T20:00:59Z',\n",
       "    'set_time': '2018-10-17T20:07:06Z',\n",
       "    'duration': 367,\n",
       "    'max_altitude_time': '2018-10-17T20:04:03Z',\n",
       "    'max_altitude': 0.2778729200363159,\n",
       "    'rise_azimuth': 4.465677738189697,\n",
       "    'set_azimuth': 0.09553362429141998,\n",
       "    'ground_track_link': 'https://api.orbit.phl-microsat.xyz/v1/track/41463/20181017T200059Z/20181017T200706Z'},\n",
       "   'horizon_pass': {'rise_time': '2018-10-17T19:59:38Z',\n",
       "    'set_time': '2018-10-17T20:08:28Z',\n",
       "    'duration': 529,\n",
       "    'ground_track_link': 'https://api.orbit.phl-microsat.xyz/v1/track/41463/20181017T195938Z/20181017T200828Z'},\n",
       "   'eclipse': {'before_aos': True,\n",
       "    'on_los': True,\n",
       "    'start': '2018-10-17T19:34:57Z',\n",
       "    'end': '2018-10-17T20:08:50Z'}},\n",
       "  {'pass': {'rise_time': '2018-10-18T05:44:08Z',\n",
       "    'set_time': '2018-10-18T05:51:29Z',\n",
       "    'duration': 440,\n",
       "    'max_altitude_time': '2018-10-18T05:47:49Z',\n",
       "    'max_altitude': 0.8106773495674133,\n",
       "    'rise_azimuth': 5.455726146697998,\n",
       "    'set_azimuth': 2.7060658931732178,\n",
       "    'ground_track_link': 'https://api.orbit.phl-microsat.xyz/v1/track/41463/20181018T054408Z/20181018T055129Z'},\n",
       "   'horizon_pass': {'rise_time': '2018-10-18T05:42:58Z',\n",
       "    'set_time': '2018-10-18T05:52:39Z',\n",
       "    'duration': 581,\n",
       "    'ground_track_link': 'https://api.orbit.phl-microsat.xyz/v1/track/41463/20181018T054258Z/20181018T055239Z'},\n",
       "   'eclipse': {'before_aos': False,\n",
       "    'on_los': False,\n",
       "    'start': None,\n",
       "    'end': None}},\n",
       "  {'pass': {'rise_time': '2018-10-18T18:50:33Z',\n",
       "    'set_time': '2018-10-18T18:58:03Z',\n",
       "    'duration': 450,\n",
       "    'max_altitude_time': '2018-10-18T18:54:18Z',\n",
       "    'max_altitude': 1.5491230487823486,\n",
       "    'rise_azimuth': 3.7802674770355225,\n",
       "    'set_azimuth': 0.6558400988578796,\n",
       "    'ground_track_link': 'https://api.orbit.phl-microsat.xyz/v1/track/41463/20181018T185033Z/20181018T185803Z'},\n",
       "   'horizon_pass': {'rise_time': '2018-10-18T18:49:24Z',\n",
       "    'set_time': '2018-10-18T18:59:12Z',\n",
       "    'duration': 588,\n",
       "    'ground_track_link': 'https://api.orbit.phl-microsat.xyz/v1/track/41463/20181018T184924Z/20181018T185912Z'},\n",
       "   'eclipse': {'before_aos': True,\n",
       "    'on_los': True,\n",
       "    'start': '2018-10-18T18:27:53Z',\n",
       "    'end': '2018-10-18T19:02:38Z'}},\n",
       "  {'pass': {'rise_time': '2018-10-19T04:34:40Z',\n",
       "    'set_time': '2018-10-19T04:41:32Z',\n",
       "    'duration': 412,\n",
       "    'max_altitude_time': '2018-10-19T04:38:06Z',\n",
       "    'max_altitude': 0.435131698846817,\n",
       "    'rise_azimuth': 6.002370834350586,\n",
       "    'set_azimuth': 2.0456671714782715,\n",
       "    'ground_track_link': 'https://api.orbit.phl-microsat.xyz/v1/track/41463/20181019T043440Z/20181019T044132Z'},\n",
       "   'horizon_pass': {'rise_time': '2018-10-19T04:33:25Z',\n",
       "    'set_time': '2018-10-19T04:42:46Z',\n",
       "    'duration': 560,\n",
       "    'ground_track_link': 'https://api.orbit.phl-microsat.xyz/v1/track/41463/20181019T043325Z/20181019T044246Z'},\n",
       "   'eclipse': {'before_aos': False,\n",
       "    'on_los': False,\n",
       "    'start': None,\n",
       "    'end': None}},\n",
       "  {'pass': {'rise_time': '2018-10-19T06:11:15Z',\n",
       "    'set_time': '2018-10-19T06:14:56Z',\n",
       "    'duration': 220,\n",
       "    'max_altitude_time': '2018-10-19T06:13:05Z',\n",
       "    'max_altitude': 0.13306038081645966,\n",
       "    'rise_azimuth': 4.64146089553833,\n",
       "    'set_azimuth': 3.6049067974090576,\n",
       "    'ground_track_link': 'https://api.orbit.phl-microsat.xyz/v1/track/41463/20181019T061115Z/20181019T061456Z'},\n",
       "   'horizon_pass': {'rise_time': '2018-10-19T06:09:25Z',\n",
       "    'set_time': '2018-10-19T06:16:46Z',\n",
       "    'duration': 440,\n",
       "    'ground_track_link': 'https://api.orbit.phl-microsat.xyz/v1/track/41463/20181019T060925Z/20181019T061646Z'},\n",
       "   'eclipse': {'before_aos': False,\n",
       "    'on_los': False,\n",
       "    'start': None,\n",
       "    'end': None}},\n",
       "  {'pass': {'rise_time': '2018-10-19T17:41:42Z',\n",
       "    'set_time': '2018-10-19T17:47:36Z',\n",
       "    'duration': 353,\n",
       "    'max_altitude_time': '2018-10-19T17:44:39Z',\n",
       "    'max_altitude': 0.2554176449775696,\n",
       "    'rise_azimuth': 3.079782009124756,\n",
       "    'set_azimuth': 1.2666665315628052,\n",
       "    'ground_track_link': 'https://api.orbit.phl-microsat.xyz/v1/track/41463/20181019T174142Z/20181019T174736Z'},\n",
       "   'horizon_pass': {'rise_time': '2018-10-19T17:40:20Z',\n",
       "    'set_time': '2018-10-19T17:48:58Z',\n",
       "    'duration': 518,\n",
       "    'ground_track_link': 'https://api.orbit.phl-microsat.xyz/v1/track/41463/20181019T174020Z/20181019T174858Z'},\n",
       "   'eclipse': {'before_aos': True,\n",
       "    'on_los': True,\n",
       "    'start': '2018-10-19T17:20:37Z',\n",
       "    'end': '2018-10-19T17:55:51Z'}},\n",
       "  {'pass': {'rise_time': '2018-10-19T19:16:49Z',\n",
       "    'set_time': '2018-10-19T19:22:40Z',\n",
       "    'duration': 350,\n",
       "    'max_altitude_time': '2018-10-19T19:19:45Z',\n",
       "    'max_altitude': 0.24708372354507446,\n",
       "    'rise_azimuth': 4.532625198364258,\n",
       "    'set_azimuth': 0.04087065905332565,\n",
       "    'ground_track_link': 'https://api.orbit.phl-microsat.xyz/v1/track/41463/20181019T191649Z/20181019T192240Z'},\n",
       "   'horizon_pass': {'rise_time': '2018-10-19T19:15:26Z',\n",
       "    'set_time': '2018-10-19T19:24:04Z',\n",
       "    'duration': 518,\n",
       "    'ground_track_link': 'https://api.orbit.phl-microsat.xyz/v1/track/41463/20181019T191526Z/20181019T192404Z'},\n",
       "   'eclipse': {'before_aos': True,\n",
       "    'on_los': True,\n",
       "    'start': '2018-10-19T18:52:30Z',\n",
       "    'end': '2018-10-19T19:27:39Z'}},\n",
       "  {'pass': {'rise_time': '2018-10-20T03:27:22Z',\n",
       "    'set_time': '2018-10-20T03:28:58Z',\n",
       "    'duration': 95,\n",
       "    'max_altitude_time': '2018-10-20T03:28:10Z',\n",
       "    'max_altitude': 0.09459829330444336,\n",
       "    'rise_azimuth': 0.5903586149215698,\n",
       "    'set_azimuth': 1.0208239555358887,\n",
       "    'ground_track_link': 'https://api.orbit.phl-microsat.xyz/v1/track/41463/20181020T032722Z/20181020T032858Z'},\n",
       "   'horizon_pass': {'rise_time': '2018-10-20T03:24:51Z',\n",
       "    'set_time': '2018-10-20T03:31:28Z',\n",
       "    'duration': 396,\n",
       "    'ground_track_link': 'https://api.orbit.phl-microsat.xyz/v1/track/41463/20181020T032451Z/20181020T033128Z'},\n",
       "   'eclipse': {'before_aos': False,\n",
       "    'on_los': False,\n",
       "    'start': None,\n",
       "    'end': None}},\n",
       "  {'pass': {'rise_time': '2018-10-20T04:59:50Z',\n",
       "    'set_time': '2018-10-20T05:07:05Z',\n",
       "    'duration': 435,\n",
       "    'max_altitude_time': '2018-10-20T05:03:28Z',\n",
       "    'max_altitude': 0.6881707906723022,\n",
       "    'rise_azimuth': 5.40839147567749,\n",
       "    'set_azimuth': 2.761242151260376,\n",
       "    'ground_track_link': 'https://api.orbit.phl-microsat.xyz/v1/track/41463/20181020T045950Z/20181020T050705Z'},\n",
       "   'horizon_pass': {'rise_time': '2018-10-20T04:58:39Z',\n",
       "    'set_time': '2018-10-20T05:08:16Z',\n",
       "    'duration': 577,\n",
       "    'ground_track_link': 'https://api.orbit.phl-microsat.xyz/v1/track/41463/20181020T045839Z/20181020T050816Z'},\n",
       "   'eclipse': {'before_aos': False,\n",
       "    'on_los': False,\n",
       "    'start': None,\n",
       "    'end': None}}]}"
      ]
     },
     "execution_count": 126,
     "metadata": {},
     "output_type": "execute_result"
    }
   ],
   "source": [
    "import folium\n",
    "import requests\n",
    "\n",
    "endpoint = 'https://api.orbit.phl-microsat.xyz/v1/passes/41463?days=3'\n",
    "\n",
    "r = requests.get(endpoint).json()\n",
    "r"
   ]
  },
  {
   "cell_type": "code",
   "execution_count": 133,
   "metadata": {},
   "outputs": [
    {
     "name": "stdout",
     "output_type": "stream",
     "text": [
      "12 passes found!\n"
     ]
    }
   ],
   "source": [
    "print(\"{} passes found!\".format(len(r['data'])))"
   ]
  },
  {
   "cell_type": "code",
   "execution_count": 127,
   "metadata": {},
   "outputs": [
    {
     "data": {
      "text/plain": [
       "{'tle': ['1 41463U 98067HT  18289.70293215  .00018672  00000-0  13717-3 0  9991',\n",
       "  '2 41463  51.6381  70.7685 0000845 200.5081 243.0860 15.73159928141111'],\n",
       " 'time_computed': '2018-10-17T04:26:45Z',\n",
       " 'observer': {'lon': 121.06834888458252, 'lat': 14.649828466511153, 'alt': 0},\n",
       " 'horizon': '5',\n",
       " 'days': 3.0}"
      ]
     },
     "execution_count": 127,
     "metadata": {},
     "output_type": "execute_result"
    }
   ],
   "source": [
    "r['meta']"
   ]
  },
  {
   "cell_type": "markdown",
   "metadata": {},
   "source": [
    "#### Details of a pass"
   ]
  },
  {
   "cell_type": "code",
   "execution_count": 128,
   "metadata": {},
   "outputs": [
    {
     "data": {
      "text/plain": [
       "{'rise_time': '2018-10-17T05:19:00Z',\n",
       " 'set_time': '2018-10-17T05:25:42Z',\n",
       " 'duration': 401,\n",
       " 'max_altitude_time': '2018-10-17T05:22:21Z',\n",
       " 'max_altitude': 0.3833211064338684,\n",
       " 'rise_azimuth': 6.050815582275391,\n",
       " 'set_azimuth': 1.9859271049499512,\n",
       " 'ground_track_link': 'https://api.orbit.phl-microsat.xyz/v1/track/41463/20181017T051900Z/20181017T052542Z'}"
      ]
     },
     "execution_count": 128,
     "metadata": {},
     "output_type": "execute_result"
    }
   ],
   "source": [
    "r['data'][0]['pass']"
   ]
  }
 ],
 "metadata": {
  "kernelspec": {
   "display_name": "Python 3",
   "language": "python",
   "name": "python3"
  },
  "language_info": {
   "codemirror_mode": {
    "name": "ipython",
    "version": 3
   },
   "file_extension": ".py",
   "mimetype": "text/x-python",
   "name": "python",
   "nbconvert_exporter": "python",
   "pygments_lexer": "ipython3",
   "version": "3.7.0"
  }
 },
 "nbformat": 4,
 "nbformat_minor": 2
}
