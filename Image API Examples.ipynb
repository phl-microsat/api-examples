{
 "cells": [
  {
   "cell_type": "markdown",
   "metadata": {},
   "source": [
    "# Image API\n",
    "\n",
    "This notebook provides an overview of PHL-Microsat's Image API endpoint: A catalog of Diwata-1 images.\n",
    "\n",
    "The ImageAPI has a couple of endpoints available:\n",
    "* [/scenes](#scenes)\n",
    "* [/scenes/histogram](#histogram)\n",
    "* [/scenes/geohash](#geohash)\n"
   ]
  },
  {
   "cell_type": "markdown",
   "metadata": {},
   "source": [
    "## GET /scenes <a class=\"anchor\" id=\"scenes\"></a>\n",
    "\n",
    "This endpoint serves a list of satellite images."
   ]
  },
  {
   "cell_type": "markdown",
   "metadata": {},
   "source": [
    "### Fetch Data \n",
    "Let's make a request using the default parameters"
   ]
  },
  {
   "cell_type": "code",
   "execution_count": null,
   "metadata": {},
   "outputs": [],
   "source": [
    "import requests\n",
    "r = requests.get('https://api.orange.phl-microsat.xyz/scenes')\n",
    "r.json()"
   ]
  },
  {
   "cell_type": "markdown",
   "metadata": {},
   "source": [
    "### Inspect Results\n",
    "\n",
    "The response returns a JSON file with two parts, the data and the meta. Let's look at the data part."
   ]
  },
  {
   "cell_type": "code",
   "execution_count": null,
   "metadata": {
    "scrolled": true
   },
   "outputs": [],
   "source": [
    "data = r.json()['data']\n",
    "data"
   ]
  },
  {
   "cell_type": "markdown",
   "metadata": {},
   "source": [
    "### Row Contents\n",
    "\n",
    "The data returns a list of dictionaries, each with information about a specific image. Each dictionary has the following information\n",
    "\n",
    "* scene_id\n",
    "* scene_center\n",
    "* scene_footprint\n",
    "* satellite_name\n",
    "* payload\n",
    "* cloudcover\n",
    "* capture_time\n",
    "* wavelength\n",
    "* published_time\n",
    "* links\n",
    "* image_quality\n",
    "* bands\n",
    "* day_or_night\n",
    "* products\n",
    "* satellite_color\n",
    "* payload_color\n",
    "* mission_id\n",
    "* mission_name\n",
    "* mission_start_time "
   ]
  },
  {
   "cell_type": "markdown",
   "metadata": {},
   "source": [
    "### Inspect a Sample Image"
   ]
  },
  {
   "cell_type": "code",
   "execution_count": null,
   "metadata": {},
   "outputs": [],
   "source": [
    "sample = data[0]\n",
    "sample"
   ]
  },
  {
   "cell_type": "markdown",
   "metadata": {},
   "source": [
    "#### Setup Folium\n",
    "\n",
    "To visualize shapes, we'll be using **Folium**, a Python library for plotting maps using `Leaflet.js`. Here's an example of a map setup using Folium."
   ]
  },
  {
   "cell_type": "code",
   "execution_count": null,
   "metadata": {
    "scrolled": false
   },
   "outputs": [],
   "source": [
    "import folium\n",
    "\n",
    "COUNTRY_CENTER = [12.8797, 121.7740]\n",
    "m = folium.Map(location=COUNTRY_CENTER, zoom_start=6)\n",
    "m"
   ]
  },
  {
   "cell_type": "markdown",
   "metadata": {},
   "source": [
    "### Geometries\n",
    "\n",
    "There are two geometry attributes included in each item: `scene_footprint` and `scene_center`"
   ]
  },
  {
   "cell_type": "markdown",
   "metadata": {},
   "source": [
    "#### Geometry: Scene Footprint\n",
    "\n",
    "This is the actual area covered by the image on the ground. It is represented as a GeoJSON polygon geometry."
   ]
  },
  {
   "cell_type": "code",
   "execution_count": null,
   "metadata": {
    "scrolled": true
   },
   "outputs": [],
   "source": [
    "footprint = sample['scene_footprint']\n",
    "footprint"
   ]
  },
  {
   "cell_type": "markdown",
   "metadata": {},
   "source": [
    "Let's plot the scene footprint:"
   ]
  },
  {
   "cell_type": "code",
   "execution_count": null,
   "metadata": {},
   "outputs": [],
   "source": [
    "folium.GeoJson(\n",
    "    footprint,\n",
    "    name='footprint'\n",
    ").add_to(m)\n",
    "m"
   ]
  },
  {
   "cell_type": "markdown",
   "metadata": {},
   "source": [
    "#### Geometry: Scene Center\n",
    "\n",
    "It's the centroid of the footprint on the ground. It is represented as a GeoJSON point."
   ]
  },
  {
   "cell_type": "code",
   "execution_count": null,
   "metadata": {},
   "outputs": [],
   "source": [
    "scene_center = sample['scene_center']\n",
    "scene_center"
   ]
  },
  {
   "cell_type": "markdown",
   "metadata": {},
   "source": [
    "Let's plot the scene center:"
   ]
  },
  {
   "cell_type": "code",
   "execution_count": null,
   "metadata": {
    "scrolled": true
   },
   "outputs": [],
   "source": [
    "m = folium.Map(location=COUNTRY_CENTER, zoom_start=5)\n",
    "\n",
    "folium.GeoJson(\n",
    "    scene_center,\n",
    "    name='scene_center'\n",
    ").add_to(m)\n",
    "\n",
    "m"
   ]
  },
  {
   "cell_type": "markdown",
   "metadata": {},
   "source": [
    "### Filters\n",
    "\n",
    "The API also allows filtering of results. Feel play with some filters and map the results using Folium.\n",
    "\n",
    "#### Basic Filters\n",
    "| **Parameter**            | **Description**                                                                                           | **Example**                                           |\n",
    "|--------------------------|-----------------------------------------------------------------------------------------------------------|-------------------------------------------------------|\n",
    "| payload                  | Filter by payload. Sample payloads are: 'hpt', 'smi', 'mfc'. Multiple allowed.                            | `/scenes?payload=smi,hpt`                             |\n",
    "| satellite_name           | Filter by satellite name. Multiple allowed.                                                               | `/scenes?satellite_name=diwata-1,landsat8`             |\n",
    "| since                    | Return scenes captured on or after specified date (UTC)                                                   | `/scenes?since=2016-01-01T00:00:00Z`                  |      \n",
    "| until                    | Return scenes captured on or before specified date (UTC)                                                  | `/scenes?until=2016-01-01T00:00:00Z`                  |\n",
    "\n",
    "#### Geographical Filters\n",
    "| **Parameter**            | **Description**                                                                                           | **Example**                                           |\n",
    "|--------------------------|-----------------------------------------------------------------------------------------------------------|-------------------------------------------------------|\n",
    "| geo_bounding_box         | Returns scenes that intersect with a bounding box                                                         | `/scenes?geo_bounding_box=118.30078,16.10915,128.6718,9.34067` |\n",
    "| geo_point                | Returns scenes that encloses a specified pinned point                                                     | `/scenes?geo_point=121.11328,15.05090`  |"
   ]
  },
  {
   "cell_type": "markdown",
   "metadata": {},
   "source": [
    "---\n",
    "\n",
    "## GET /scenes/histogram <a class=\"anchor\" id=\"histogram\"></a>\n",
    "\n",
    "This endpoint returns the number of scenes per day/number of days. `bucket_size` indicates the number of days to group the results by."
   ]
  },
  {
   "cell_type": "code",
   "execution_count": null,
   "metadata": {
    "scrolled": true
   },
   "outputs": [],
   "source": [
    "import requests\n",
    "\n",
    "r = requests.get('https://api.orange.phl-microsat.xyz/scenes/histogram?bucket_size=7')\n",
    "r.json()"
   ]
  },
  {
   "cell_type": "markdown",
   "metadata": {},
   "source": [
    "Filters for the GET /scenes endpoint also work here!"
   ]
  },
  {
   "cell_type": "markdown",
   "metadata": {},
   "source": [
    "---\n",
    "\n",
    "## GET /scenes/geohash <a class=\"anchor\" id=\"geohash\"></a>\n",
    "\n",
    "This endpoint returns the number of scenes grouped by geohash."
   ]
  },
  {
   "cell_type": "code",
   "execution_count": null,
   "metadata": {},
   "outputs": [],
   "source": [
    "r = requests.get('https://api.orange.phl-microsat.xyz/scenes/geohash')\n",
    "r.json()"
   ]
  }
 ],
 "metadata": {
  "kernelspec": {
   "display_name": "Python 3",
   "language": "python",
   "name": "python3"
  },
  "language_info": {
   "codemirror_mode": {
    "name": "ipython",
    "version": 3
   },
   "file_extension": ".py",
   "mimetype": "text/x-python",
   "name": "python",
   "nbconvert_exporter": "python",
   "pygments_lexer": "ipython3",
   "version": "3.7.0"
  }
 },
 "nbformat": 4,
 "nbformat_minor": 2
}
