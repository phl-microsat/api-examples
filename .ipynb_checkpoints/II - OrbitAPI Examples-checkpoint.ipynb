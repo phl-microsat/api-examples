{
 "cells": [
  {
   "cell_type": "markdown",
   "metadata": {},
   "source": [
    "This notebook provides an overview of orbit API endpoints"
   ]
  },
  {
   "cell_type": "code",
   "execution_count": 40,
   "metadata": {},
   "outputs": [],
   "source": [
    "import folium\n",
    "\n",
    "API_URL = 'https://api.orbit.phl-microsat.xyz'\n",
    "CATALOG_ID = '41463'\n",
    "COUNTRY_CENTER = [12.8797, 121.7740]"
   ]
  },
  {
   "cell_type": "markdown",
   "metadata": {},
   "source": [
    "## TLE\n",
    "\n",
    "This endpoint retrieves the TLE for a given timestamp\n",
    "\n",
    "`/v1/tle/<catalog_id>/<timestamp>`\n",
    "\n",
    "Catalog ID is the the satellite's NORAD Catalog ID\n",
    "\n",
    "**41463**\n",
    "\n",
    "Where timestamp is of the format \n",
    "\n",
    "**YYYYMMDDTHHmmSS**\n",
    "\n",
    "20170815T0100Z\n"
   ]
  },
  {
   "cell_type": "code",
   "execution_count": 77,
   "metadata": {},
   "outputs": [],
   "source": [
    "import requests\n",
    "\n",
    "API_URL = 'https://api.orbit.phl-microsat.xyz'\n",
    "CATALOG_ID = '41463'\n",
    "COUNTRY_CENTER = [12.8797, 121.7740]\n",
    "\n",
    "timestamp = \"20170815T0100Z\"\n",
    "\n",
    "tle_endpoint = f'{API_URL}/v1/tle/{CATALOG_ID}/{timestamp}'\n",
    "r = requests.get(tle_endpoint)"
   ]
  },
  {
   "cell_type": "code",
   "execution_count": 75,
   "metadata": {},
   "outputs": [
    {
     "data": {
      "text/plain": [
       "{'data': {'epoch': '2017-08-14T20:41:28Z',\n",
       "  'line1': '1 41463U 98067HT  17226.86213157  .00006355  00000-0  74091-4 0  9993',\n",
       "  'line2': '2 41463  51.6411  89.0410 0001139  76.9154  10.4807 15.63104425 73973'},\n",
       " 'meta': {'query_time': '2017-08-15T01:00:00Z', 'catalog_id': 41463}}"
      ]
     },
     "execution_count": 75,
     "metadata": {},
     "output_type": "execute_result"
    }
   ],
   "source": [
    "r.json()"
   ]
  },
  {
   "cell_type": "code",
   "execution_count": 20,
   "metadata": {},
   "outputs": [
    {
     "data": {
      "text/plain": [
       "{'epoch': '2017-08-14T20:41:28Z',\n",
       " 'line1': '1 41463U 98067HT  17226.86213157  .00006355  00000-0  74091-4 0  9993',\n",
       " 'line2': '2 41463  51.6411  89.0410 0001139  76.9154  10.4807 15.63104425 73973'}"
      ]
     },
     "execution_count": 20,
     "metadata": {},
     "output_type": "execute_result"
    }
   ],
   "source": [
    "r.json()['data']"
   ]
  },
  {
   "cell_type": "code",
   "execution_count": 21,
   "metadata": {},
   "outputs": [
    {
     "data": {
      "text/plain": [
       "{'query_time': '2017-08-15T01:00:00Z', 'catalog_id': 41463}"
      ]
     },
     "execution_count": 21,
     "metadata": {},
     "output_type": "execute_result"
    }
   ],
   "source": [
    "r.json()['meta']"
   ]
  },
  {
   "cell_type": "markdown",
   "metadata": {},
   "source": [
    "## Point\n",
    "\n",
    "`/v1/point/<catalog_id>/<timestamp>`\n",
    "\n",
    "Computes for a Satellite's location at a given timestamp."
   ]
  },
  {
   "cell_type": "code",
   "execution_count": 79,
   "metadata": {},
   "outputs": [
    {
     "data": {
      "text/plain": [
       "{'data': {'type': 'Feature',\n",
       "  'geometry': {'type': 'Point',\n",
       "   'coordinates': [121.06345063588421, 14.29374071582744]},\n",
       "  'properties': {'elevation': 378303.0245276034, 'timestamp': 1502758800.0}},\n",
       " 'meta': {'tle': {'catalog_id': 41463,\n",
       "   'line1': '1 41463U 98067HT  17226.86213157  .00006355  00000-0  74091-4 0  9993',\n",
       "   'line2': '2 41463  51.6411  89.0410 0001139  76.9154  10.4807 15.63104425 73973',\n",
       "   'query_time': '2017-08-15T01:00:00Z',\n",
       "   'epoch': '2017-08-14T20:41:28Z'}}}"
      ]
     },
     "execution_count": 79,
     "metadata": {},
     "output_type": "execute_result"
    }
   ],
   "source": [
    "import folium\n",
    "import requests\n",
    "\n",
    "API_URL = 'https://api.orbit.phl-microsat.xyz'\n",
    "CATALOG_ID = '41463'\n",
    "COUNTRY_CENTER = [12.8797, 121.7740]\n",
    "\n",
    "timestamp = \"20170815T0100Z\"\n",
    "\n",
    "point_endpoint = f'{API_URL}/v1/point/{CATALOG_ID}/{timestamp}'\n",
    "\n",
    "r = requests.get(point_endpoint).json()\n",
    "r"
   ]
  },
  {
   "cell_type": "code",
   "execution_count": 81,
   "metadata": {},
   "outputs": [
    {
     "data": {
      "text/plain": [
       "{'type': 'Feature',\n",
       " 'geometry': {'type': 'Point',\n",
       "  'coordinates': [121.06345063588421, 14.29374071582744]},\n",
       " 'properties': {'elevation': 378303.0245276034, 'timestamp': 1502758800.0}}"
      ]
     },
     "execution_count": 81,
     "metadata": {},
     "output_type": "execute_result"
    }
   ],
   "source": [
    "point = r['data']\n",
    "point"
   ]
  },
  {
   "cell_type": "code",
   "execution_count": 82,
   "metadata": {},
   "outputs": [
    {
     "data": {
      "text/html": [
       "<div style=\"width:100%;\"><div style=\"position:relative;width:100%;height:0;padding-bottom:60%;\"><iframe src=\"data:text/html;charset=utf-8;base64,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\" style=\"position:absolute;width:100%;height:100%;left:0;top:0;border:none !important;\" allowfullscreen webkitallowfullscreen mozallowfullscreen></iframe></div></div>"
      ],
      "text/plain": [
       "<folium.folium.Map at 0x7efec8060b38>"
      ]
     },
     "execution_count": 82,
     "metadata": {},
     "output_type": "execute_result"
    }
   ],
   "source": [
    "m = folium.Map(location=COUNTRY_CENTER, zoom_start=6)\n",
    "folium.GeoJson(point).add_to(m)\n",
    "\n",
    "m"
   ]
  },
  {
   "cell_type": "markdown",
   "metadata": {},
   "source": [
    "# Track\n",
    "\n",
    "`/v1/track/<catalog_id>/<start_time>/<end_time>`\n",
    "\n",
    "Generates a ground track of a satellite for a time range"
   ]
  },
  {
   "cell_type": "code",
   "execution_count": 73,
   "metadata": {},
   "outputs": [
    {
     "data": {
      "text/plain": [
       "{'meta': {'tle': {'line1': '1 41463U 98067HT  17226.86213157  .00006355  00000-0  74091-4 0  9993',\n",
       "   'line2': '2 41463  51.6411  89.0410 0001139  76.9154  10.4807 15.63104425 73973',\n",
       "   'catalog_id': 41463,\n",
       "   'epoch': '2017-08-14T20:41:28Z'},\n",
       "  'time_computed': '2018-10-17T04:13:03Z',\n",
       "  'start_time': '2017-08-15T01:00:00Z',\n",
       "  'end_time': '2017-08-15T01:01:00Z'},\n",
       " 'data': {'type': 'FeatureCollection',\n",
       "  'features': [{'type': 'Feature',\n",
       "    'geometry': {'type': 'Point',\n",
       "     'coordinates': [121.06345063588421, 14.29374071582744]},\n",
       "    'properties': {'elevation': 378303.0245276034, 'timestamp': 1502758800.0}},\n",
       "   {'type': 'Feature',\n",
       "    'geometry': {'type': 'Point',\n",
       "     'coordinates': [121.64845706317143, 15.048407614000103]},\n",
       "    'properties': {'elevation': 378313.2946547737, 'timestamp': 1502758815.0}},\n",
       "   {'type': 'Feature',\n",
       "    'geometry': {'type': 'Point',\n",
       "     'coordinates': [122.2380315381809, 15.801179317275707]},\n",
       "    'properties': {'elevation': 378329.35048469994,\n",
       "     'timestamp': 1502758830.0}},\n",
       "   {'type': 'Feature',\n",
       "    'geometry': {'type': 'Point',\n",
       "     'coordinates': [122.8324357272769, 16.551941566676263]},\n",
       "    'properties': {'elevation': 378351.08031286707,\n",
       "     'timestamp': 1502758845.0}}]}}"
      ]
     },
     "execution_count": 73,
     "metadata": {},
     "output_type": "execute_result"
    }
   ],
   "source": [
    "import folium\n",
    "\n",
    "timestamp = \"20170815T0100Z\"\n",
    "timestamp2 = \"20170815T0110Z\" \n",
    "\n",
    "tle_endpoint = f'{API_URL}/v1/track/{CATALOG_ID}/{timestamp}/{timestamp2}'\n",
    "\n",
    "r = requests.get(tle_endpoint).json()\n",
    "r"
   ]
  },
  {
   "cell_type": "code",
   "execution_count": 66,
   "metadata": {},
   "outputs": [],
   "source": [
    "track = r['data']"
   ]
  },
  {
   "cell_type": "code",
   "execution_count": 72,
   "metadata": {
    "scrolled": false
   },
   "outputs": [
    {
     "data": {
      "text/html": [
       "<div style=\"width:100%;\"><div style=\"position:relative;width:100%;height:0;padding-bottom:60%;\"><iframe src=\"data:text/html;charset=utf-8;base64,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\" style=\"position:absolute;width:100%;height:100%;left:0;top:0;border:none !important;\" allowfullscreen webkitallowfullscreen mozallowfullscreen></iframe></div></div>"
      ],
      "text/plain": [
       "<folium.folium.Map at 0x7efec8001d30>"
      ]
     },
     "execution_count": 72,
     "metadata": {},
     "output_type": "execute_result"
    }
   ],
   "source": [
    "m = folium.Map(location=COUNTRY_CENTER, zoom_start=6)\n",
    "\n",
    "folium.GeoJson(\n",
    "    track,\n",
    ").add_to(m)\n",
    "\n",
    "m"
   ]
  },
  {
   "cell_type": "markdown",
   "metadata": {},
   "source": [
    "## Passes"
   ]
  }
 ],
 "metadata": {
  "kernelspec": {
   "display_name": "Python 3",
   "language": "python",
   "name": "python3"
  },
  "language_info": {
   "codemirror_mode": {
    "name": "ipython",
    "version": 3
   },
   "file_extension": ".py",
   "mimetype": "text/x-python",
   "name": "python",
   "nbconvert_exporter": "python",
   "pygments_lexer": "ipython3",
   "version": "3.7.0"
  }
 },
 "nbformat": 4,
 "nbformat_minor": 2
}
