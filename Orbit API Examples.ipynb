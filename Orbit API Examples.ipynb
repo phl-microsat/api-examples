{
 "cells": [
  {
   "cell_type": "markdown",
   "metadata": {},
   "source": [
    "# Orbit API\n",
    "\n",
    "A web API for predicting satellite location."
   ]
  },
  {
   "cell_type": "markdown",
   "metadata": {},
   "source": [
    "## Point\n",
    "\n",
    "`/v1/point/<catalog_id>/<timestamp>`\n",
    "\n",
    "Computes for a Satellite's location at a given timestamp."
   ]
  },
  {
   "cell_type": "code",
   "execution_count": 1,
   "metadata": {},
   "outputs": [
    {
     "data": {
      "text/plain": [
       "{'data': {'type': 'Feature',\n",
       "  'geometry': {'type': 'Point',\n",
       "   'coordinates': [121.06525330263776, 14.206951421751079]},\n",
       "  'properties': {'elevation': 378298.84375, 'timestamp': 1502758800.0}},\n",
       " 'meta': {'tle': {'catalog_id': 41463,\n",
       "   'line1': '1 41463U 98067HT  17226.86213157  .00006355  00000-0  74091-4 0  9993',\n",
       "   'line2': '2 41463  51.6411  89.0410 0001139  76.9154  10.4807 15.63104425 73973',\n",
       "   'query_time': '2017-08-15T01:00:00Z',\n",
       "   'epoch': '2017-08-14T20:41:28Z'}}}"
      ]
     },
     "execution_count": 1,
     "metadata": {},
     "output_type": "execute_result"
    }
   ],
   "source": [
    "import folium\n",
    "import requests\n",
    "\n",
    "point_endpoint = 'https://api.orbit.phl-microsat.xyz/v1/point/41463/20170815T0100Z'\n",
    "\n",
    "results = requests.get(point_endpoint).json()\n",
    "results"
   ]
  },
  {
   "cell_type": "markdown",
   "metadata": {},
   "source": [
    "\"data\" contains a standard GeoJSON feature representing the ground location directly below the satellite."
   ]
  },
  {
   "cell_type": "code",
   "execution_count": 2,
   "metadata": {},
   "outputs": [
    {
     "data": {
      "text/plain": [
       "{'type': 'Feature',\n",
       " 'geometry': {'type': 'Point',\n",
       "  'coordinates': [121.06525330263776, 14.206951421751079]},\n",
       " 'properties': {'elevation': 378298.84375, 'timestamp': 1502758800.0}}"
      ]
     },
     "execution_count": 2,
     "metadata": {},
     "output_type": "execute_result"
    }
   ],
   "source": [
    "point = results['data']\n",
    "point"
   ]
  },
  {
   "cell_type": "markdown",
   "metadata": {},
   "source": [
    "#### Let's plot the location using Folium!"
   ]
  },
  {
   "cell_type": "code",
   "execution_count": 3,
   "metadata": {},
   "outputs": [
    {
     "data": {
      "text/plain": [
       "<folium.features.GeoJson at 0x1fa1d868198>"
      ]
     },
     "execution_count": 3,
     "metadata": {},
     "output_type": "execute_result"
    },
    {
     "data": {
      "text/html": [
       "<div style=\"width:100%;\"><div style=\"position:relative;width:100%;height:0;padding-bottom:60%;\"><iframe src=\"data:text/html;charset=utf-8;base64,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\" style=\"position:absolute;width:100%;height:100%;left:0;top:0;border:none !important;\" allowfullscreen webkitallowfullscreen mozallowfullscreen></iframe></div></div>"
      ],
      "text/plain": [
       "<folium.folium.Map at 0x1fa1d868588>"
      ]
     },
     "execution_count": 3,
     "metadata": {},
     "output_type": "execute_result"
    }
   ],
   "source": [
    "COUNTRY_CENTER = [12.8797, 121.7740]\n",
    "m = folium.Map(location=COUNTRY_CENTER, zoom_start=6)\n",
    "folium.GeoJson(point).add_to(m)\n",
    "m"
   ]
  },
  {
   "cell_type": "markdown",
   "metadata": {},
   "source": [
    "# Track\n",
    "\n",
    "`/v1/track/<catalog_id>/<start_time>/<end_time>`\n",
    "\n",
    "The `/track` endpoint returns the ground track of a satellite given a time range"
   ]
  },
  {
   "cell_type": "code",
   "execution_count": 4,
   "metadata": {
    "scrolled": false
   },
   "outputs": [
    {
     "data": {
      "text/plain": [
       "{'meta': {'tle': {'line1': '1 41463U 98067HT  17226.86213157  .00006355  00000-0  74091-4 0  9993',\n",
       "   'line2': '2 41463  51.6411  89.0410 0001139  76.9154  10.4807 15.63104425 73973',\n",
       "   'catalog_id': 41463,\n",
       "   'epoch': '2017-08-14T20:41:28Z'},\n",
       "  'time_computed': '2019-10-18T03:50:50Z',\n",
       "  'start_time': '2017-08-15T01:00:00Z',\n",
       "  'end_time': '2017-08-15T01:01:00Z'},\n",
       " 'data': {'type': 'FeatureCollection',\n",
       "  'features': [{'type': 'Feature',\n",
       "    'geometry': {'type': 'Point',\n",
       "     'coordinates': [121.06525330263776, 14.206951421751079]},\n",
       "    'properties': {'elevation': 378298.84375, 'timestamp': 1502758800.0}},\n",
       "   {'type': 'Feature',\n",
       "    'geometry': {'type': 'Point',\n",
       "     'coordinates': [121.65025900504935, 14.957456876620311]},\n",
       "    'properties': {'elevation': 378308.34375, 'timestamp': 1502758815.0}},\n",
       "   {'type': 'Feature',\n",
       "    'geometry': {'type': 'Point',\n",
       "     'coordinates': [122.23984093420485, 15.706137817207503]},\n",
       "    'properties': {'elevation': 378323.625, 'timestamp': 1502758830.0}},\n",
       "   {'type': 'Feature',\n",
       "    'geometry': {'type': 'Point',\n",
       "     'coordinates': [122.83424497691438, 16.452887521806876]},\n",
       "    'properties': {'elevation': 378344.5625, 'timestamp': 1502758845.0}}]}}"
      ]
     },
     "execution_count": 4,
     "metadata": {},
     "output_type": "execute_result"
    }
   ],
   "source": [
    "import folium\n",
    "import requests\n",
    "\n",
    "track_endpoint = 'https://api.orbit.phl-microsat.xyz/v1/track/41463/20170815T0100Z/20170815T0110Z'\n",
    "\n",
    "r = requests.get(track_endpoint).json()\n",
    "r"
   ]
  },
  {
   "cell_type": "code",
   "execution_count": 5,
   "metadata": {},
   "outputs": [
    {
     "data": {
      "text/plain": [
       "{'type': 'FeatureCollection',\n",
       " 'features': [{'type': 'Feature',\n",
       "   'geometry': {'type': 'Point',\n",
       "    'coordinates': [121.06525330263776, 14.206951421751079]},\n",
       "   'properties': {'elevation': 378298.84375, 'timestamp': 1502758800.0}},\n",
       "  {'type': 'Feature',\n",
       "   'geometry': {'type': 'Point',\n",
       "    'coordinates': [121.65025900504935, 14.957456876620311]},\n",
       "   'properties': {'elevation': 378308.34375, 'timestamp': 1502758815.0}},\n",
       "  {'type': 'Feature',\n",
       "   'geometry': {'type': 'Point',\n",
       "    'coordinates': [122.23984093420485, 15.706137817207503]},\n",
       "   'properties': {'elevation': 378323.625, 'timestamp': 1502758830.0}},\n",
       "  {'type': 'Feature',\n",
       "   'geometry': {'type': 'Point',\n",
       "    'coordinates': [122.83424497691438, 16.452887521806876]},\n",
       "   'properties': {'elevation': 378344.5625, 'timestamp': 1502758845.0}}]}"
      ]
     },
     "execution_count": 5,
     "metadata": {},
     "output_type": "execute_result"
    }
   ],
   "source": [
    "track = r['data']\n",
    "track"
   ]
  },
  {
   "cell_type": "code",
   "execution_count": 6,
   "metadata": {
    "scrolled": false
   },
   "outputs": [
    {
     "data": {
      "text/plain": [
       "<folium.features.GeoJson at 0x1fa1d896588>"
      ]
     },
     "execution_count": 6,
     "metadata": {},
     "output_type": "execute_result"
    },
    {
     "data": {
      "text/html": [
       "<div style=\"width:100%;\"><div style=\"position:relative;width:100%;height:0;padding-bottom:60%;\"><iframe src=\"data:text/html;charset=utf-8;base64,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\" style=\"position:absolute;width:100%;height:100%;left:0;top:0;border:none !important;\" allowfullscreen webkitallowfullscreen mozallowfullscreen></iframe></div></div>"
      ],
      "text/plain": [
       "<folium.folium.Map at 0x1fa1d896d30>"
      ]
     },
     "execution_count": 6,
     "metadata": {},
     "output_type": "execute_result"
    }
   ],
   "source": [
    "COUNTRY_CENTER = [12.8797, 121.7740]\n",
    "m = folium.Map(location=COUNTRY_CENTER, zoom_start=6)\n",
    "\n",
    "folium.GeoJson(\n",
    "    track,\n",
    ").add_to(m)\n",
    "\n",
    "m"
   ]
  },
  {
   "cell_type": "markdown",
   "metadata": {},
   "source": [
    "...in this case, "
   ]
  },
  {
   "cell_type": "markdown",
   "metadata": {},
   "source": [
    "## Passes\n",
    "\n",
    "The `/passes` endpoint predicts when a satellite will pass over an area."
   ]
  },
  {
   "cell_type": "code",
   "execution_count": 7,
   "metadata": {},
   "outputs": [
    {
     "data": {
      "text/plain": [
       "{'meta': {'tle': ['1 41463U 98067HT  19290.17689095  .00033022  00000-0  12507-3 0  9992',\n",
       "   '2 41463  51.6283 338.8818 0001863  15.7269  18.3651 15.87343967198872'],\n",
       "  'time_computed': '2019-10-18T03:50:50Z',\n",
       "  'observer': {'lon': 121.071999, 'lat': 14.647318, 'alt': 77.0},\n",
       "  'horizon': '5',\n",
       "  'days': 3.0},\n",
       " 'data': [{'pass': {'rise_time': '2019-10-18T13:22:51Z',\n",
       "    'set_time': '2019-10-18T13:29:22Z',\n",
       "    'duration': 391,\n",
       "    'max_altitude_time': '2019-10-18T13:26:06Z',\n",
       "    'max_altitude': 30.059543008915643,\n",
       "    'rise_azimuth': 4.1417083740234375,\n",
       "    'set_azimuth': 0.35454103350639343,\n",
       "    'ground_track_link': 'https://api.orbit.phl-microsat.xyz/v1/track/41463/20191018T132251Z/20191018T132922Z'},\n",
       "   'horizon_pass': {'rise_time': '2019-10-18T13:21:40Z',\n",
       "    'set_time': '2019-10-18T13:30:33Z',\n",
       "    'duration': 532,\n",
       "    'ground_track_link': 'https://api.orbit.phl-microsat.xyz/v1/track/41463/20191018T132140Z/20191018T133033Z'},\n",
       "   'eclipse': {'before_aos': True,\n",
       "    'on_los': True,\n",
       "    'start': '2019-10-18T13:13:56Z',\n",
       "    'end': '2019-10-18T13:49:46Z'}},\n",
       "  {'pass': {'rise_time': '2019-10-18T23:01:05Z',\n",
       "    'set_time': '2019-10-18T23:07:53Z',\n",
       "    'duration': 407,\n",
       "    'max_altitude_time': '2019-10-18T23:04:29Z',\n",
       "    'max_altitude': 46.82939228934613,\n",
       "    'rise_azimuth': 5.798156261444092,\n",
       "    'set_azimuth': 2.298581123352051,\n",
       "    'ground_track_link': 'https://api.orbit.phl-microsat.xyz/v1/track/41463/20191018T230105Z/20191018T230753Z'},\n",
       "   'horizon_pass': {'rise_time': '2019-10-18T22:59:56Z',\n",
       "    'set_time': '2019-10-18T23:09:02Z',\n",
       "    'duration': 545,\n",
       "    'ground_track_link': 'https://api.orbit.phl-microsat.xyz/v1/track/41463/20191018T225956Z/20191018T230902Z'},\n",
       "   'eclipse': {'before_aos': False,\n",
       "    'on_los': False,\n",
       "    'start': None,\n",
       "    'end': None}},\n",
       "  {'pass': {'rise_time': '2019-10-19T12:00:43Z',\n",
       "    'set_time': '2019-10-19T12:06:38Z',\n",
       "    'duration': 354,\n",
       "    'max_altitude_time': '2019-10-19T12:03:41Z',\n",
       "    'max_altitude': 18.55848628630736,\n",
       "    'rise_azimuth': 3.2233128547668457,\n",
       "    'set_azimuth': 1.1427521705627441,\n",
       "    'ground_track_link': 'https://api.orbit.phl-microsat.xyz/v1/track/41463/20191019T120043Z/20191019T120638Z'},\n",
       "   'horizon_pass': {'rise_time': '2019-10-19T11:59:28Z',\n",
       "    'set_time': '2019-10-19T12:07:54Z',\n",
       "    'duration': 506,\n",
       "    'ground_track_link': 'https://api.orbit.phl-microsat.xyz/v1/track/41463/20191019T115928Z/20191019T120754Z'},\n",
       "   'eclipse': {'before_aos': True,\n",
       "    'on_los': True,\n",
       "    'start': '2019-10-19T11:55:23Z',\n",
       "    'end': '2019-10-19T12:30:28Z'}},\n",
       "  {'pass': {'rise_time': '2019-10-19T13:35:59Z',\n",
       "    'set_time': '2019-10-19T13:39:56Z',\n",
       "    'duration': 236,\n",
       "    'max_altitude_time': '2019-10-19T13:37:57Z',\n",
       "    'max_altitude': 8.554331260878131,\n",
       "    'rise_azimuth': 4.832240104675293,\n",
       "    'set_azimuth': 6.059389114379883,\n",
       "    'ground_track_link': 'https://api.orbit.phl-microsat.xyz/v1/track/41463/20191019T133559Z/20191019T133956Z'},\n",
       "   'horizon_pass': {'rise_time': '2019-10-19T13:34:20Z',\n",
       "    'set_time': '2019-10-19T13:41:35Z',\n",
       "    'duration': 434,\n",
       "    'ground_track_link': 'https://api.orbit.phl-microsat.xyz/v1/track/41463/20191019T133420Z/20191019T134135Z'},\n",
       "   'eclipse': {'before_aos': True,\n",
       "    'on_los': True,\n",
       "    'start': '2019-10-19T13:26:09Z',\n",
       "    'end': '2019-10-19T14:01:10Z'}},\n",
       "  {'pass': {'rise_time': '2019-10-19T21:41:05Z',\n",
       "    'set_time': '2019-10-19T21:42:34Z',\n",
       "    'duration': 88,\n",
       "    'max_altitude_time': '2019-10-19T21:41:49Z',\n",
       "    'max_altitude': 5.410900619919842,\n",
       "    'rise_azimuth': 0.5989469289779663,\n",
       "    'set_azimuth': 1.034399390220642,\n",
       "    'ground_track_link': 'https://api.orbit.phl-microsat.xyz/v1/track/41463/20191019T214105Z/20191019T214234Z'},\n",
       "   'horizon_pass': {'rise_time': '2019-10-19T21:38:40Z',\n",
       "    'set_time': '2019-10-19T21:44:58Z',\n",
       "    'duration': 377,\n",
       "    'ground_track_link': 'https://api.orbit.phl-microsat.xyz/v1/track/41463/20191019T213840Z/20191019T214458Z'},\n",
       "   'eclipse': {'before_aos': False,\n",
       "    'on_los': False,\n",
       "    'start': None,\n",
       "    'end': None}},\n",
       "  {'pass': {'rise_time': '2019-10-19T23:12:56Z',\n",
       "    'set_time': '2019-10-19T23:19:26Z',\n",
       "    'duration': 390,\n",
       "    'max_altitude_time': '2019-10-19T23:16:11Z',\n",
       "    'max_altitude': 29.364810317487795,\n",
       "    'rise_azimuth': 5.320637226104736,\n",
       "    'set_azimuth': 2.8574652671813965,\n",
       "    'ground_track_link': 'https://api.orbit.phl-microsat.xyz/v1/track/41463/20191019T231256Z/20191019T231926Z'},\n",
       "   'horizon_pass': {'rise_time': '2019-10-19T23:11:45Z',\n",
       "    'set_time': '2019-10-19T23:20:37Z',\n",
       "    'duration': 532,\n",
       "    'ground_track_link': 'https://api.orbit.phl-microsat.xyz/v1/track/41463/20191019T231145Z/20191019T232037Z'},\n",
       "   'eclipse': {'before_aos': False,\n",
       "    'on_los': False,\n",
       "    'start': None,\n",
       "    'end': None}},\n",
       "  {'pass': {'rise_time': '2019-10-20T12:11:53Z',\n",
       "    'set_time': '2019-10-20T12:18:45Z',\n",
       "    'duration': 412,\n",
       "    'max_altitude_time': '2019-10-20T12:15:19Z',\n",
       "    'max_altitude': 85.27840201427507,\n",
       "    'rise_azimuth': 3.803546667098999,\n",
       "    'set_azimuth': 0.6370499134063721,\n",
       "    'ground_track_link': 'https://api.orbit.phl-microsat.xyz/v1/track/41463/20191020T121153Z/20191020T121845Z'},\n",
       "   'horizon_pass': {'rise_time': '2019-10-20T12:10:45Z',\n",
       "    'set_time': '2019-10-20T12:19:53Z',\n",
       "    'duration': 547,\n",
       "    'ground_track_link': 'https://api.orbit.phl-microsat.xyz/v1/track/41463/20191020T121045Z/20191020T121953Z'},\n",
       "   'eclipse': {'before_aos': True,\n",
       "    'on_los': True,\n",
       "    'start': '2019-10-20T12:07:31Z',\n",
       "    'end': '2019-10-20T12:42:35Z'}},\n",
       "  {'pass': {'rise_time': '2019-10-20T21:50:36Z',\n",
       "    'set_time': '2019-10-20T21:56:39Z',\n",
       "    'duration': 362,\n",
       "    'max_altitude_time': '2019-10-20T21:53:38Z',\n",
       "    'max_altitude': 19.499353382213076,\n",
       "    'rise_azimuth': 6.090677738189697,\n",
       "    'set_azimuth': 1.9459091424942017,\n",
       "    'ground_track_link': 'https://api.orbit.phl-microsat.xyz/v1/track/41463/20191020T215036Z/20191020T215639Z'},\n",
       "   'horizon_pass': {'rise_time': '2019-10-20T21:49:21Z',\n",
       "    'set_time': '2019-10-20T21:57:54Z',\n",
       "    'duration': 513,\n",
       "    'ground_track_link': 'https://api.orbit.phl-microsat.xyz/v1/track/41463/20191020T214921Z/20191020T215754Z'},\n",
       "   'eclipse': {'before_aos': False,\n",
       "    'on_los': False,\n",
       "    'start': None,\n",
       "    'end': None}},\n",
       "  {'pass': {'rise_time': '2019-10-20T23:26:02Z',\n",
       "    'set_time': '2019-10-20T23:29:28Z',\n",
       "    'duration': 206,\n",
       "    'max_altitude_time': '2019-10-20T23:27:45Z',\n",
       "    'max_altitude': 7.576913261402735,\n",
       "    'rise_azimuth': 4.644250392913818,\n",
       "    'set_azimuth': 3.594038963317871,\n",
       "    'ground_track_link': 'https://api.orbit.phl-microsat.xyz/v1/track/41463/20191020T232602Z/20191020T232928Z'},\n",
       "   'horizon_pass': {'rise_time': '2019-10-20T23:24:16Z',\n",
       "    'set_time': '2019-10-20T23:31:14Z',\n",
       "    'duration': 417,\n",
       "    'ground_track_link': 'https://api.orbit.phl-microsat.xyz/v1/track/41463/20191020T232416Z/20191020T233114Z'},\n",
       "   'eclipse': {'before_aos': False,\n",
       "    'on_los': False,\n",
       "    'start': None,\n",
       "    'end': None}},\n",
       "  {'pass': {'rise_time': '2019-10-21T10:50:57Z',\n",
       "    'set_time': '2019-10-21T10:54:43Z',\n",
       "    'duration': 226,\n",
       "    'max_altitude_time': '2019-10-21T10:52:50Z',\n",
       "    'max_altitude': 8.268804594135856,\n",
       "    'rise_azimuth': 2.752150058746338,\n",
       "    'set_azimuth': 1.5790058374404907,\n",
       "    'ground_track_link': 'https://api.orbit.phl-microsat.xyz/v1/track/41463/20191021T105057Z/20191021T105443Z'},\n",
       "   'horizon_pass': {'rise_time': '2019-10-21T10:49:16Z',\n",
       "    'set_time': '2019-10-21T10:56:24Z',\n",
       "    'duration': 427,\n",
       "    'ground_track_link': 'https://api.orbit.phl-microsat.xyz/v1/track/41463/20191021T104916Z/20191021T105624Z'},\n",
       "   'eclipse': {'before_aos': False,\n",
       "    'on_los': True,\n",
       "    'start': '2019-10-21T10:48:53Z',\n",
       "    'end': '2019-10-21T11:24:12Z'}}]}"
      ]
     },
     "execution_count": 7,
     "metadata": {},
     "output_type": "execute_result"
    }
   ],
   "source": [
    "import folium\n",
    "import requests\n",
    "\n",
    "endpoint = 'https://api.orbit.phl-microsat.xyz/v1/passes/41463?days=3&lon=121.071999&lat=14.647318&alt=77'\n",
    "\n",
    "r = requests.get(endpoint).json()\n",
    "r"
   ]
  },
  {
   "cell_type": "code",
   "execution_count": 8,
   "metadata": {},
   "outputs": [
    {
     "name": "stdout",
     "output_type": "stream",
     "text": [
      "10 passes found!\n"
     ]
    }
   ],
   "source": [
    "print(\"{} passes found!\".format(len(r['data'])))"
   ]
  },
  {
   "cell_type": "code",
   "execution_count": 9,
   "metadata": {},
   "outputs": [
    {
     "data": {
      "text/plain": [
       "{'tle': ['1 41463U 98067HT  19290.17689095  .00033022  00000-0  12507-3 0  9992',\n",
       "  '2 41463  51.6283 338.8818 0001863  15.7269  18.3651 15.87343967198872'],\n",
       " 'time_computed': '2019-10-18T03:50:50Z',\n",
       " 'observer': {'lon': 121.071999, 'lat': 14.647318, 'alt': 77.0},\n",
       " 'horizon': '5',\n",
       " 'days': 3.0}"
      ]
     },
     "execution_count": 9,
     "metadata": {},
     "output_type": "execute_result"
    }
   ],
   "source": [
    "r['meta']"
   ]
  },
  {
   "cell_type": "markdown",
   "metadata": {},
   "source": [
    "#### Details of a pass"
   ]
  },
  {
   "cell_type": "code",
   "execution_count": 10,
   "metadata": {},
   "outputs": [
    {
     "data": {
      "text/plain": [
       "{'rise_time': '2019-10-18T13:22:51Z',\n",
       " 'set_time': '2019-10-18T13:29:22Z',\n",
       " 'duration': 391,\n",
       " 'max_altitude_time': '2019-10-18T13:26:06Z',\n",
       " 'max_altitude': 30.059543008915643,\n",
       " 'rise_azimuth': 4.1417083740234375,\n",
       " 'set_azimuth': 0.35454103350639343,\n",
       " 'ground_track_link': 'https://api.orbit.phl-microsat.xyz/v1/track/41463/20191018T132251Z/20191018T132922Z'}"
      ]
     },
     "execution_count": 10,
     "metadata": {},
     "output_type": "execute_result"
    }
   ],
   "source": [
    "r['data'][0]['pass']"
   ]
  },
  {
   "cell_type": "code",
   "execution_count": null,
   "metadata": {},
   "outputs": [],
   "source": []
  }
 ],
 "metadata": {
  "kernelspec": {
   "display_name": "Python [default]",
   "language": "python",
   "name": "python3"
  },
  "language_info": {
   "codemirror_mode": {
    "name": "ipython",
    "version": 3
   },
   "file_extension": ".py",
   "mimetype": "text/x-python",
   "name": "python",
   "nbconvert_exporter": "python",
   "pygments_lexer": "ipython3",
   "version": "3.6.1"
  }
 },
 "nbformat": 4,
 "nbformat_minor": 2
}
