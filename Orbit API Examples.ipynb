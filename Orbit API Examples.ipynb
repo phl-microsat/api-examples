{
 "cells": [
  {
   "cell_type": "markdown",
   "metadata": {},
   "source": [
    "# Orbit API\n",
    "\n",
    "A web API for predicting satellite location."
   ]
  },
  {
   "cell_type": "markdown",
   "metadata": {},
   "source": [
    "## Point\n",
    "\n",
    "`/v1/point/<catalog_id>/<timestamp>`\n",
    "\n",
    "Computes for a Satellite's location at a given timestamp."
   ]
  },
  {
   "cell_type": "code",
   "execution_count": null,
   "metadata": {},
   "outputs": [],
   "source": [
    "import folium\n",
    "import requests\n",
    "\n",
    "point_endpoint = 'https://api.orbit.phl-microsat.xyz/v1/point/41463/20170815T0100Z'\n",
    "\n",
    "results = requests.get(point_endpoint).json()\n",
    "results"
   ]
  },
  {
   "cell_type": "markdown",
   "metadata": {},
   "source": [
    "\"data\" contains a standard GeoJSON feature representing the ground location directly below the satellite."
   ]
  },
  {
   "cell_type": "code",
   "execution_count": null,
   "metadata": {},
   "outputs": [],
   "source": [
    "point = results['data']\n",
    "point"
   ]
  },
  {
   "cell_type": "markdown",
   "metadata": {},
   "source": [
    "#### Let's plot the location using Folium!"
   ]
  },
  {
   "cell_type": "code",
   "execution_count": null,
   "metadata": {},
   "outputs": [],
   "source": [
    "COUNTRY_CENTER = [12.8797, 121.7740]\n",
    "m = folium.Map(location=COUNTRY_CENTER, zoom_start=6)\n",
    "folium.GeoJson(point).add_to(m)\n",
    "m"
   ]
  },
  {
   "cell_type": "markdown",
   "metadata": {},
   "source": [
    "# Track\n",
    "\n",
    "`/v1/track/<catalog_id>/<start_time>/<end_time>`\n",
    "\n",
    "The `/track` endpoint returns the ground track of a satellite given a time range"
   ]
  },
  {
   "cell_type": "code",
   "execution_count": null,
   "metadata": {
    "scrolled": false
   },
   "outputs": [],
   "source": [
    "import folium\n",
    "import requests\n",
    "\n",
    "track_endpoint = 'https://api.orbit.phl-microsat.xyz/v1/track/41463/20170815T0100Z/20170815T0110Z'\n",
    "\n",
    "r = requests.get(track_endpoint).json()\n",
    "r"
   ]
  },
  {
   "cell_type": "code",
   "execution_count": null,
   "metadata": {},
   "outputs": [],
   "source": [
    "track = r['data']\n",
    "track"
   ]
  },
  {
   "cell_type": "code",
   "execution_count": null,
   "metadata": {
    "scrolled": false
   },
   "outputs": [],
   "source": [
    "COUNTRY_CENTER = [12.8797, 121.7740]\n",
    "m = folium.Map(location=COUNTRY_CENTER, zoom_start=6)\n",
    "\n",
    "folium.GeoJson(\n",
    "    track,\n",
    ").add_to(m)\n",
    "\n",
    "m"
   ]
  },
  {
   "cell_type": "code",
   "execution_count": null,
   "metadata": {},
   "outputs": [],
   "source": [
    "...in this case, "
   ]
  },
  {
   "cell_type": "markdown",
   "metadata": {},
   "source": [
    "## Passes\n",
    "\n",
    "The `/passes` endpoint predicts when a satellite will pass over an area."
   ]
  },
  {
   "cell_type": "code",
   "execution_count": null,
   "metadata": {},
   "outputs": [],
   "source": [
    "import folium\n",
    "import requests\n",
    "\n",
    "endpoint = 'https://api.orbit.phl-microsat.xyz/v1/passes/41463?days=3&lon=121.071999&lat=14.647318&alt=77'\n",
    "\n",
    "r = requests.get(endpoint).json()\n",
    "r"
   ]
  },
  {
   "cell_type": "code",
   "execution_count": null,
   "metadata": {},
   "outputs": [],
   "source": [
    "print(\"{} passes found!\".format(len(r['data'])))"
   ]
  },
  {
   "cell_type": "code",
   "execution_count": null,
   "metadata": {},
   "outputs": [],
   "source": [
    "r['meta']"
   ]
  },
  {
   "cell_type": "markdown",
   "metadata": {},
   "source": [
    "#### Details of a pass"
   ]
  },
  {
   "cell_type": "code",
   "execution_count": null,
   "metadata": {},
   "outputs": [],
   "source": [
    "r['data'][0]['pass']"
   ]
  }
 ],
 "metadata": {
  "kernelspec": {
   "display_name": "Python 3",
   "language": "python",
   "name": "python3"
  },
  "language_info": {
   "codemirror_mode": {
    "name": "ipython",
    "version": 3
   },
   "file_extension": ".py",
   "mimetype": "text/x-python",
   "name": "python",
   "nbconvert_exporter": "python",
   "pygments_lexer": "ipython3",
   "version": "3.7.0"
  }
 },
 "nbformat": 4,
 "nbformat_minor": 2
}
